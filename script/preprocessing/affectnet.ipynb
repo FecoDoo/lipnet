{
 "cells": [
  {
   "cell_type": "code",
   "execution_count": null,
   "metadata": {},
   "outputs": [],
   "source": [
    "import os\n",
    "import sys\n",
    "import matplotlib.pyplot as plt\n",
    "import numpy as np\n",
    "import matplotlib.pyplot as plt\n",
    "from pathlib import Path\n",
    "from dotenv import load_dotenv\n",
    "from PIL import Image\n",
    "\n",
    "root = Path(os.getcwd()).parents[1].resolve()\n",
    "\n",
    "sys.path.insert(0, str(root))\n",
    "\n",
    "assert load_dotenv(\".env\")"
   ]
  },
  {
   "cell_type": "code",
   "execution_count": null,
   "metadata": {},
   "outputs": [],
   "source": [
    "from datetime import datetime\n",
    "\n",
    "datetime.utcnow().strftime(os.environ['DATETIME_FMT'])"
   ]
  },
  {
   "cell_type": "markdown",
   "metadata": {},
   "source": [
    "# Glance"
   ]
  },
  {
   "cell_type": "code",
   "execution_count": null,
   "metadata": {},
   "outputs": [],
   "source": [
    "data = root.joinpath(\"data/affectnet\")\n",
    "group = data.joinpath(\"test\")\n",
    "\n",
    "image_dir = group.joinpath(\"images\")\n",
    "label_dir = group.joinpath(\"annotations\")\n",
    "\n",
    "image_path_list = list(image_dir.glob(\"*.jpg\"))\n",
    "label_path_list = list(label_dir.glob(\"*.npy\"))"
   ]
  },
  {
   "cell_type": "code",
   "execution_count": null,
   "metadata": {},
   "outputs": [],
   "source": [
    "sample = image_path_list[0]\n",
    "sample"
   ]
  },
  {
   "cell_type": "code",
   "execution_count": null,
   "metadata": {},
   "outputs": [],
   "source": [
    "sample_nor = np.array(Image.open(sample)).astype(np.float32) / 255.0\n",
    "\n",
    "plt.imshow(sample_nor)\n",
    "plt.show()"
   ]
  },
  {
   "cell_type": "markdown",
   "metadata": {},
   "source": [
    "# Extact Label"
   ]
  },
  {
   "cell_type": "markdown",
   "metadata": {},
   "source": [
    "## select annotation files containing emotion labels"
   ]
  },
  {
   "cell_type": "code",
   "execution_count": null,
   "metadata": {},
   "outputs": [],
   "source": [
    "emotion_label_file_paths = [path for path in label_path_list if path.name.split(\"_\")[1].split(\".\")[0] == \"exp\"]\n",
    "emotion_label_file_paths[:6]"
   ]
  },
  {
   "cell_type": "markdown",
   "metadata": {},
   "source": [
    "## select labels and file names from annotation files"
   ]
  },
  {
   "cell_type": "code",
   "execution_count": null,
   "metadata": {},
   "outputs": [],
   "source": [
    "emotion_label_file_names = [path.name.split(\"_\")[0] for path in emotion_label_file_paths]\n",
    "emotion_label_file_names[:6]"
   ]
  },
  {
   "cell_type": "code",
   "execution_count": null,
   "metadata": {},
   "outputs": [],
   "source": [
    "emotion_labels = [int(np.load(file).tolist()[0]) for file in emotion_label_file_paths]\n",
    "emotion_labels[:6]"
   ]
  },
  {
   "cell_type": "markdown",
   "metadata": {},
   "source": [
    "# create corresponding directory for storing classified face images"
   ]
  },
  {
   "cell_type": "code",
   "execution_count": null,
   "metadata": {},
   "outputs": [],
   "source": [
    "from core.utils.config import emotion\n",
    "\n",
    "face_dir = group.joinpath(\"faces\")\n",
    "face_dir.mkdir(exist_ok=True)\n",
    "\n",
    "for c in emotion.keys():\n",
    "    face_dir.joinpath(c).mkdir(exist_ok=True) "
   ]
  },
  {
   "cell_type": "code",
   "execution_count": null,
   "metadata": {},
   "outputs": [],
   "source": [
    "affectnet_mapping = {\n",
    "    0: \"neutral\", 1: \"happy\", 2: \"sad\", 3: \"surprise\", 4: \"fear\", 5: \"disgust\", 6: \"angry\"\n",
    "}"
   ]
  },
  {
   "cell_type": "code",
   "execution_count": null,
   "metadata": {},
   "outputs": [],
   "source": [
    "from shutil import move\n",
    "\n",
    "for image_name, label in zip(emotion_label_file_names, emotion_labels):\n",
    "    if label > 6:\n",
    "        continue\n",
    "    name = image_name + \".jpg\"\n",
    "    src = image_dir.joinpath(name) # get original file path\n",
    "\n",
    "    if not src.exists():\n",
    "        continue\n",
    "    true_label = affectnet_mapping[label] # get category str\n",
    "\n",
    "    dst = face_dir.joinpath(true_label, name) # create new file path\n",
    "\n",
    "    move(src, dst)"
   ]
  }
 ],
 "metadata": {
  "language_info": {
   "name": "python"
  },
  "orig_nbformat": 4
 },
 "nbformat": 4,
 "nbformat_minor": 2
}
