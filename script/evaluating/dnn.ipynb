{
  "cells": [
    {
      "cell_type": "code",
      "execution_count": null,
      "metadata": {},
      "outputs": [],
      "source": [
        "import os\n",
        "import sys\n",
        "import numpy as np\n",
        "import pandas as pd\n",
        "from pathlib import Path\n",
        "\n",
        "root = Path(os.getcwd()).parents[1].resolve()\n",
        "sys.path.insert(0, str(root))"
      ]
    },
    {
      "cell_type": "markdown",
      "metadata": {},
      "source": [
        "# Load Video"
      ]
    },
    {
      "cell_type": "code",
      "execution_count": null,
      "metadata": {},
      "outputs": [],
      "source": [
        "from core.utils.video import video_read\n",
        "\n",
        "sample_video_path = root.joinpath('data/videos/sample.mp4')\n",
        "\n",
        "stream = video_read(sample_video_path)\n",
        "\n",
        "stream.shape"
      ]
    },
    {
      "cell_type": "markdown",
      "metadata": {},
      "source": [
        "# Face and Lip Detection"
      ]
    },
    {
      "cell_type": "code",
      "execution_count": null,
      "metadata": {},
      "outputs": [],
      "source": [
        "from common.face_detection import recognition\n",
        "\n",
        "\n",
        "def detector(frame):\n",
        "    \"\"\"detecting face and lip area from image\n",
        "\n",
        "    Args:\n",
        "        frame (np.array): numpy array with shape H x W x C\n",
        "\n",
        "    Returns:\n",
        "        face: numpy array of cropped face image\n",
        "        lip: numpy array of cropped lip image\n",
        "    \"\"\"\n",
        "    res = recognition(frame)\n",
        "\n",
        "    face = res[0] if res[0] is not None and 0 not in res[0].shape else None\n",
        "    lip = res[1] if res[0] is not None and 0 not in res[0].shape else None\n",
        "\n",
        "    return face, lip\n",
        "\n",
        "def cleaning(stream):\n",
        "    \"\"\"Remove null values after face detection process\n",
        "\n",
        "    Args:\n",
        "        stream (_type_): _description_\n",
        "\n",
        "    Returns:\n",
        "        _type_: _description_\n",
        "    \"\"\"\n",
        "    return pd.Series(data=stream).fillna(method=\"backfill\").to_numpy()\n",
        "\n",
        "from cv2 import resize\n",
        "\n",
        "def resize_face(frame):\n",
        "    return resize(frame, dsize=(224,224))\n",
        "\n",
        "def resize_lip(frame):\n",
        "    return resize(frame, dsize=(100,50))\n",
        "\n",
        "\n",
        "from multiprocessing import Pool\n",
        "from more_itertools import unzip\n",
        "\n",
        "def processing(stream):\n",
        "    \"\"\"Detecting faces and lips from video stream\n",
        "\n",
        "    Args:\n",
        "        stream (_type_): _description_\n",
        "\n",
        "    Returns:\n",
        "        _type_: _description_\n",
        "    \"\"\"\n",
        "    faces, lips = None, None\n",
        "\n",
        "    with Pool(os.cpu_count() - 1) as pool:\n",
        "        results = pool.map_async(detector, stream).get()\n",
        "\n",
        "        faces, lips = unzip(results)\n",
        "        faces, lips = cleaning(list(faces)), cleaning(list(lips))\n",
        "\n",
        "        faces = pool.map_async(resize_face, faces).get()\n",
        "        lips = pool.map_async(resize_lip, lips).get()\n",
        "\n",
        "    return faces, lips"
      ]
    },
    {
      "cell_type": "code",
      "execution_count": null,
      "metadata": {},
      "outputs": [],
      "source": [
        "faces, lips = processing(stream)"
      ]
    },
    {
      "cell_type": "markdown",
      "metadata": {},
      "source": [
        "# Generate tensorflow Dataset"
      ]
    },
    {
      "cell_type": "code",
      "execution_count": null,
      "metadata": {},
      "outputs": [],
      "source": [
        "import tensorflow as tf\n",
        "from numpy.lib.stride_tricks import sliding_window_view\n",
        "\n",
        "window_width = 75\n",
        "\n",
        "def generate_dataset(faces, lips):\n",
        "    face_window = np.moveaxis(\n",
        "        sliding_window_view(\n",
        "            x=faces,\n",
        "            window_shape=window_width,\n",
        "            axis=0\n",
        "        ),\n",
        "        source=-1,\n",
        "        destination=1\n",
        "    )\n",
        "    lip_window = np.moveaxis(\n",
        "        sliding_window_view(\n",
        "            x=lips,\n",
        "            window_shape=window_width,\n",
        "            axis=0\n",
        "        ),\n",
        "        source=-1,\n",
        "        destination=1\n",
        "    )\n",
        "\n",
        "    def face_data_generator():\n",
        "        for batch in face_window:\n",
        "            yield batch\n",
        "\n",
        "    def lip_data_generator():\n",
        "        for batch in lip_window:\n",
        "            yield batch\n",
        "\n",
        "\n",
        "    face_dataset = tf.data.Dataset.from_generator(\n",
        "        face_data_generator,\n",
        "        output_signature=(\n",
        "            tf.TensorSpec(shape=(75, 224,224,3), dtype=tf.uint8)\n",
        "        )\n",
        "       \n",
        "    )\n",
        "    lip_dataset = tf.data.Dataset.from_generator(\n",
        "        lip_data_generator,\n",
        "        output_signature=(\n",
        "            tf.TensorSpec(shape=(75,50,100,3), dtype=tf.uint8)\n",
        "        )\n",
        "\n",
        "    )\n",
        "\n",
        "    return tf.data.Dataset.zip(((face_dataset,lip_dataset),)).batch(1).prefetch(1)\n",
        "\n",
        "dataset = generate_dataset(faces, lips)"
      ]
    },
    {
      "cell_type": "markdown",
      "metadata": {},
      "source": [
        "# Load DNN"
      ]
    },
    {
      "cell_type": "code",
      "execution_count": null,
      "metadata": {},
      "outputs": [],
      "source": [
        "from core.models.dnn import DNN\n",
        "from core.utils.config import LipNetConfig, BaselineConfig\n",
        "\n",
        "lipnet_weight = root.joinpath(\"models/lipnet/lipnet.h5\")\n",
        "baseline_weight = root.joinpath(\"models/baseline/mobilenet\")\n",
        "\n",
        "model = DNN(LipNetConfig(), BaselineConfig(), lipnet_weight, baseline_weight)\n",
        "\n",
        "model.load_weights(\n",
        "    root.joinpath(\"models/dnn/2022-07-04T1414/dnn_37_0.32.h5\")\n",
        ")\n",
        "\n",
        "model.compile(metrics=['accuracy'])"
      ]
    },
    {
      "cell_type": "markdown",
      "metadata": {},
      "source": [
        "# Prediction"
      ]
    },
    {
      "cell_type": "code",
      "execution_count": null,
      "metadata": {},
      "outputs": [],
      "source": [
        "prediction = model.predict(dataset)"
      ]
    }
  ],
  "metadata": {
    "interpreter": {
      "hash": "3c89fe2a3f85414afa09d3f1254509aa8fb8b64cdb7c8aeab18a1634a42ba6db"
    },
    "kernelspec": {
      "display_name": "Python 3.9.13 ('base')",
      "language": "python",
      "name": "python3"
    },
    "language_info": {
      "codemirror_mode": {
        "name": "ipython",
        "version": 3
      },
      "file_extension": ".py",
      "mimetype": "text/x-python",
      "name": "python",
      "nbconvert_exporter": "python",
      "pygments_lexer": "ipython3",
      "version": "3.9.13"
    },
    "orig_nbformat": 4
  },
  "nbformat": 4,
  "nbformat_minor": 2
}
